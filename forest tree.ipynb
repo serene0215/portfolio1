{
 "cells": [
  {
   "cell_type": "code",
   "execution_count": 1,
   "id": "a3109b46",
   "metadata": {},
   "outputs": [],
   "source": [
    "import numpy as np\n",
    "import pandas as pd\n",
    "import matplotlib.pyplot as plt\n",
    "%matplotlib inline\n",
    "import seaborn as sns"
   ]
  },
  {
   "cell_type": "code",
   "execution_count": 2,
   "id": "c13f22ab",
   "metadata": {},
   "outputs": [],
   "source": [
    "#載入資料\n",
    "data = pd.read_csv('customer behavior.csv')"
   ]
  },
  {
   "cell_type": "code",
   "execution_count": 3,
   "id": "24501fe3",
   "metadata": {},
   "outputs": [
    {
     "data": {
      "text/html": [
       "<div>\n",
       "<style scoped>\n",
       "    .dataframe tbody tr th:only-of-type {\n",
       "        vertical-align: middle;\n",
       "    }\n",
       "\n",
       "    .dataframe tbody tr th {\n",
       "        vertical-align: top;\n",
       "    }\n",
       "\n",
       "    .dataframe thead th {\n",
       "        text-align: right;\n",
       "    }\n",
       "</style>\n",
       "<table border=\"1\" class=\"dataframe\">\n",
       "  <thead>\n",
       "    <tr style=\"text-align: right;\">\n",
       "      <th></th>\n",
       "      <th>Customer ID</th>\n",
       "      <th>Gender</th>\n",
       "      <th>Age</th>\n",
       "      <th>City</th>\n",
       "      <th>Membership Type</th>\n",
       "      <th>Total Spend</th>\n",
       "      <th>Items Purchased</th>\n",
       "      <th>Average Rating</th>\n",
       "      <th>Discount Applied</th>\n",
       "      <th>Days Since Last Purchase</th>\n",
       "      <th>Satisfaction Level</th>\n",
       "    </tr>\n",
       "  </thead>\n",
       "  <tbody>\n",
       "    <tr>\n",
       "      <th>0</th>\n",
       "      <td>101</td>\n",
       "      <td>Female</td>\n",
       "      <td>29</td>\n",
       "      <td>New York</td>\n",
       "      <td>Gold</td>\n",
       "      <td>1120.20</td>\n",
       "      <td>14</td>\n",
       "      <td>4.6</td>\n",
       "      <td>True</td>\n",
       "      <td>25</td>\n",
       "      <td>Satisfied</td>\n",
       "    </tr>\n",
       "    <tr>\n",
       "      <th>1</th>\n",
       "      <td>102</td>\n",
       "      <td>Male</td>\n",
       "      <td>34</td>\n",
       "      <td>Los Angeles</td>\n",
       "      <td>Silver</td>\n",
       "      <td>780.50</td>\n",
       "      <td>11</td>\n",
       "      <td>4.1</td>\n",
       "      <td>False</td>\n",
       "      <td>18</td>\n",
       "      <td>Neutral</td>\n",
       "    </tr>\n",
       "    <tr>\n",
       "      <th>2</th>\n",
       "      <td>103</td>\n",
       "      <td>Female</td>\n",
       "      <td>43</td>\n",
       "      <td>Chicago</td>\n",
       "      <td>Bronze</td>\n",
       "      <td>510.75</td>\n",
       "      <td>9</td>\n",
       "      <td>3.4</td>\n",
       "      <td>True</td>\n",
       "      <td>42</td>\n",
       "      <td>Unsatisfied</td>\n",
       "    </tr>\n",
       "    <tr>\n",
       "      <th>3</th>\n",
       "      <td>104</td>\n",
       "      <td>Male</td>\n",
       "      <td>30</td>\n",
       "      <td>San Francisco</td>\n",
       "      <td>Gold</td>\n",
       "      <td>1480.30</td>\n",
       "      <td>19</td>\n",
       "      <td>4.7</td>\n",
       "      <td>False</td>\n",
       "      <td>12</td>\n",
       "      <td>Satisfied</td>\n",
       "    </tr>\n",
       "    <tr>\n",
       "      <th>4</th>\n",
       "      <td>105</td>\n",
       "      <td>Male</td>\n",
       "      <td>27</td>\n",
       "      <td>Miami</td>\n",
       "      <td>Silver</td>\n",
       "      <td>720.40</td>\n",
       "      <td>13</td>\n",
       "      <td>4.0</td>\n",
       "      <td>True</td>\n",
       "      <td>55</td>\n",
       "      <td>Unsatisfied</td>\n",
       "    </tr>\n",
       "  </tbody>\n",
       "</table>\n",
       "</div>"
      ],
      "text/plain": [
       "   Customer ID  Gender  Age           City Membership Type  Total Spend  \\\n",
       "0          101  Female   29       New York            Gold      1120.20   \n",
       "1          102    Male   34    Los Angeles          Silver       780.50   \n",
       "2          103  Female   43        Chicago          Bronze       510.75   \n",
       "3          104    Male   30  San Francisco            Gold      1480.30   \n",
       "4          105    Male   27          Miami          Silver       720.40   \n",
       "\n",
       "   Items Purchased  Average Rating  Discount Applied  \\\n",
       "0               14             4.6              True   \n",
       "1               11             4.1             False   \n",
       "2                9             3.4              True   \n",
       "3               19             4.7             False   \n",
       "4               13             4.0              True   \n",
       "\n",
       "   Days Since Last Purchase Satisfaction Level  \n",
       "0                        25          Satisfied  \n",
       "1                        18            Neutral  \n",
       "2                        42        Unsatisfied  \n",
       "3                        12          Satisfied  \n",
       "4                        55        Unsatisfied  "
      ]
     },
     "execution_count": 3,
     "metadata": {},
     "output_type": "execute_result"
    }
   ],
   "source": [
    "#查看data\n",
    "data.head()"
   ]
  },
  {
   "cell_type": "markdown",
   "id": "5e5a23fc",
   "metadata": {},
   "source": [
    "# 1.資料預處理"
   ]
  },
  {
   "cell_type": "code",
   "execution_count": 4,
   "id": "01df91fd",
   "metadata": {},
   "outputs": [
    {
     "name": "stdout",
     "output_type": "stream",
     "text": [
      "<class 'pandas.core.frame.DataFrame'>\n",
      "RangeIndex: 350 entries, 0 to 349\n",
      "Data columns (total 11 columns):\n",
      " #   Column                    Non-Null Count  Dtype  \n",
      "---  ------                    --------------  -----  \n",
      " 0   Customer ID               350 non-null    int64  \n",
      " 1   Gender                    350 non-null    object \n",
      " 2   Age                       350 non-null    int64  \n",
      " 3   City                      350 non-null    object \n",
      " 4   Membership Type           350 non-null    object \n",
      " 5   Total Spend               350 non-null    float64\n",
      " 6   Items Purchased           350 non-null    int64  \n",
      " 7   Average Rating            350 non-null    float64\n",
      " 8   Discount Applied          350 non-null    bool   \n",
      " 9   Days Since Last Purchase  350 non-null    int64  \n",
      " 10  Satisfaction Level        348 non-null    object \n",
      "dtypes: bool(1), float64(2), int64(4), object(4)\n",
      "memory usage: 27.8+ KB\n"
     ]
    }
   ],
   "source": [
    "#顯示資料集data的資訊，並發現欄位Satisfaction Level有兩個缺失值\n",
    "data.info()"
   ]
  },
  {
   "cell_type": "code",
   "execution_count": 5,
   "id": "03b74e75",
   "metadata": {},
   "outputs": [
    {
     "data": {
      "text/plain": [
       "Satisfied      125\n",
       "Unsatisfied    116\n",
       "Neutral        107\n",
       "Name: Satisfaction Level, dtype: int64"
      ]
     },
     "execution_count": 5,
     "metadata": {},
     "output_type": "execute_result"
    }
   ],
   "source": [
    "#查看欄位Satisfaction Level裡各個類別分別為多少\n",
    "data['Satisfaction Level'].value_counts()"
   ]
  },
  {
   "cell_type": "code",
   "execution_count": 6,
   "id": "3a3c7abc",
   "metadata": {},
   "outputs": [
    {
     "name": "stdout",
     "output_type": "stream",
     "text": [
      "顧客滿意的比例為 35.92 %\n",
      "顧客不滿意的比例為 33.33 %\n",
      "顧客覺得中立的比例為 30.75 %\n"
     ]
    }
   ],
   "source": [
    "print('顧客滿意的比例為', round(125*100/348, 2), '%')\n",
    "print('顧客不滿意的比例為', round(116*100/348, 2), '%')\n",
    "print('顧客覺得中立的比例為', round(107*100/348, 2), '%')"
   ]
  },
  {
   "cell_type": "markdown",
   "id": "4f47aa19",
   "metadata": {},
   "source": [
    "以上計算後發現，滿意、不滿意、中立的比例差不多"
   ]
  },
  {
   "cell_type": "markdown",
   "id": "e43ff587",
   "metadata": {},
   "source": [
    "以下使用找尋相同評分(Average Rating)的滿意程度用來補缺失值"
   ]
  },
  {
   "cell_type": "code",
   "execution_count": 7,
   "id": "3caba22d",
   "metadata": {},
   "outputs": [
    {
     "data": {
      "text/html": [
       "<div>\n",
       "<style scoped>\n",
       "    .dataframe tbody tr th:only-of-type {\n",
       "        vertical-align: middle;\n",
       "    }\n",
       "\n",
       "    .dataframe tbody tr th {\n",
       "        vertical-align: top;\n",
       "    }\n",
       "\n",
       "    .dataframe thead th {\n",
       "        text-align: right;\n",
       "    }\n",
       "</style>\n",
       "<table border=\"1\" class=\"dataframe\">\n",
       "  <thead>\n",
       "    <tr style=\"text-align: right;\">\n",
       "      <th></th>\n",
       "      <th>Customer ID</th>\n",
       "      <th>Gender</th>\n",
       "      <th>Age</th>\n",
       "      <th>City</th>\n",
       "      <th>Membership Type</th>\n",
       "      <th>Total Spend</th>\n",
       "      <th>Items Purchased</th>\n",
       "      <th>Average Rating</th>\n",
       "      <th>Discount Applied</th>\n",
       "      <th>Days Since Last Purchase</th>\n",
       "      <th>Satisfaction Level</th>\n",
       "    </tr>\n",
       "  </thead>\n",
       "  <tbody>\n",
       "    <tr>\n",
       "      <th>71</th>\n",
       "      <td>172</td>\n",
       "      <td>Female</td>\n",
       "      <td>37</td>\n",
       "      <td>Houston</td>\n",
       "      <td>Bronze</td>\n",
       "      <td>420.8</td>\n",
       "      <td>7</td>\n",
       "      <td>3.1</td>\n",
       "      <td>False</td>\n",
       "      <td>21</td>\n",
       "      <td>NaN</td>\n",
       "    </tr>\n",
       "    <tr>\n",
       "      <th>143</th>\n",
       "      <td>244</td>\n",
       "      <td>Female</td>\n",
       "      <td>37</td>\n",
       "      <td>Houston</td>\n",
       "      <td>Bronze</td>\n",
       "      <td>430.8</td>\n",
       "      <td>7</td>\n",
       "      <td>3.4</td>\n",
       "      <td>False</td>\n",
       "      <td>23</td>\n",
       "      <td>NaN</td>\n",
       "    </tr>\n",
       "  </tbody>\n",
       "</table>\n",
       "</div>"
      ],
      "text/plain": [
       "     Customer ID  Gender  Age     City Membership Type  Total Spend  \\\n",
       "71           172  Female   37  Houston          Bronze        420.8   \n",
       "143          244  Female   37  Houston          Bronze        430.8   \n",
       "\n",
       "     Items Purchased  Average Rating  Discount Applied  \\\n",
       "71                 7             3.1             False   \n",
       "143                7             3.4             False   \n",
       "\n",
       "     Days Since Last Purchase Satisfaction Level  \n",
       "71                         21                NaN  \n",
       "143                        23                NaN  "
      ]
     },
     "execution_count": 7,
     "metadata": {},
     "output_type": "execute_result"
    }
   ],
   "source": [
    "#找出缺失值在哪幾列\n",
    "rows_with_null = data[data.isnull().any(axis=1)]\n",
    "rows_with_null"
   ]
  },
  {
   "cell_type": "markdown",
   "id": "202f5c21",
   "metadata": {},
   "source": [
    "以上欄位Satisfaction Level的缺失值分別在第7row及第143row"
   ]
  },
  {
   "cell_type": "code",
   "execution_count": 8,
   "id": "e840b602",
   "metadata": {},
   "outputs": [
    {
     "data": {
      "text/plain": [
       "Neutral    16\n",
       "Name: Satisfaction Level, dtype: int64"
      ]
     },
     "execution_count": 8,
     "metadata": {},
     "output_type": "execute_result"
    }
   ],
   "source": [
    "#找出當Average Rating為3.1分時，Satisfaction Level為多少\n",
    "satisfied_count_rating_3_1 = data[data['Average Rating'] == 3.1]['Satisfaction Level'].value_counts()\n",
    "satisfied_count_rating_3_1"
   ]
  },
  {
   "cell_type": "markdown",
   "id": "6710256c",
   "metadata": {},
   "source": [
    "從以上可看出當Average Rating為3.1分時，滿意程度都為Neutral"
   ]
  },
  {
   "cell_type": "code",
   "execution_count": 9,
   "id": "0243b769",
   "metadata": {},
   "outputs": [
    {
     "data": {
      "text/plain": [
       "Neutral        17\n",
       "Unsatisfied     1\n",
       "Name: Satisfaction Level, dtype: int64"
      ]
     },
     "execution_count": 9,
     "metadata": {},
     "output_type": "execute_result"
    }
   ],
   "source": [
    "#找出當Average Rating為3.4分時，Satisfaction Level為多少\n",
    "satisfied_count_rating_3_4 = data[data['Average Rating'] == 3.4]['Satisfaction Level'].value_counts()\n",
    "satisfied_count_rating_3_4 "
   ]
  },
  {
   "cell_type": "markdown",
   "id": "c11f77f2",
   "metadata": {},
   "source": [
    "從以上可看出當Average Rating為3.4分時，滿意程度幾乎都為Neutral，只有一個是Unsatisfied "
   ]
  },
  {
   "cell_type": "code",
   "execution_count": 10,
   "id": "960511a0",
   "metadata": {},
   "outputs": [],
   "source": [
    "#使用Neutral補缺失值\n",
    "data['Satisfaction Level'] = data['Satisfaction Level'].fillna('Neutral')"
   ]
  },
  {
   "cell_type": "code",
   "execution_count": 11,
   "id": "18c630e4",
   "metadata": {},
   "outputs": [
    {
     "name": "stdout",
     "output_type": "stream",
     "text": [
      "<class 'pandas.core.frame.DataFrame'>\n",
      "RangeIndex: 350 entries, 0 to 349\n",
      "Data columns (total 11 columns):\n",
      " #   Column                    Non-Null Count  Dtype  \n",
      "---  ------                    --------------  -----  \n",
      " 0   Customer ID               350 non-null    int64  \n",
      " 1   Gender                    350 non-null    object \n",
      " 2   Age                       350 non-null    int64  \n",
      " 3   City                      350 non-null    object \n",
      " 4   Membership Type           350 non-null    object \n",
      " 5   Total Spend               350 non-null    float64\n",
      " 6   Items Purchased           350 non-null    int64  \n",
      " 7   Average Rating            350 non-null    float64\n",
      " 8   Discount Applied          350 non-null    bool   \n",
      " 9   Days Since Last Purchase  350 non-null    int64  \n",
      " 10  Satisfaction Level        350 non-null    object \n",
      "dtypes: bool(1), float64(2), int64(4), object(4)\n",
      "memory usage: 27.8+ KB\n"
     ]
    }
   ],
   "source": [
    "#Satisfaction Level的缺失值補滿了\n",
    "data.info() "
   ]
  },
  {
   "cell_type": "code",
   "execution_count": 12,
   "id": "7e88f189",
   "metadata": {},
   "outputs": [
    {
     "data": {
      "text/html": [
       "<div>\n",
       "<style scoped>\n",
       "    .dataframe tbody tr th:only-of-type {\n",
       "        vertical-align: middle;\n",
       "    }\n",
       "\n",
       "    .dataframe tbody tr th {\n",
       "        vertical-align: top;\n",
       "    }\n",
       "\n",
       "    .dataframe thead th {\n",
       "        text-align: right;\n",
       "    }\n",
       "</style>\n",
       "<table border=\"1\" class=\"dataframe\">\n",
       "  <thead>\n",
       "    <tr style=\"text-align: right;\">\n",
       "      <th></th>\n",
       "      <th>Customer ID</th>\n",
       "      <th>Age</th>\n",
       "      <th>Total Spend</th>\n",
       "      <th>Items Purchased</th>\n",
       "      <th>Average Rating</th>\n",
       "      <th>Days Since Last Purchase</th>\n",
       "    </tr>\n",
       "  </thead>\n",
       "  <tbody>\n",
       "    <tr>\n",
       "      <th>count</th>\n",
       "      <td>350.000000</td>\n",
       "      <td>350.000000</td>\n",
       "      <td>350.000000</td>\n",
       "      <td>350.000000</td>\n",
       "      <td>350.000000</td>\n",
       "      <td>350.000000</td>\n",
       "    </tr>\n",
       "    <tr>\n",
       "      <th>mean</th>\n",
       "      <td>275.500000</td>\n",
       "      <td>33.597143</td>\n",
       "      <td>845.381714</td>\n",
       "      <td>12.600000</td>\n",
       "      <td>4.019143</td>\n",
       "      <td>26.588571</td>\n",
       "    </tr>\n",
       "    <tr>\n",
       "      <th>std</th>\n",
       "      <td>101.180532</td>\n",
       "      <td>4.870882</td>\n",
       "      <td>362.058695</td>\n",
       "      <td>4.155984</td>\n",
       "      <td>0.580539</td>\n",
       "      <td>13.440813</td>\n",
       "    </tr>\n",
       "    <tr>\n",
       "      <th>min</th>\n",
       "      <td>101.000000</td>\n",
       "      <td>26.000000</td>\n",
       "      <td>410.800000</td>\n",
       "      <td>7.000000</td>\n",
       "      <td>3.000000</td>\n",
       "      <td>9.000000</td>\n",
       "    </tr>\n",
       "    <tr>\n",
       "      <th>25%</th>\n",
       "      <td>188.250000</td>\n",
       "      <td>30.000000</td>\n",
       "      <td>502.000000</td>\n",
       "      <td>9.000000</td>\n",
       "      <td>3.500000</td>\n",
       "      <td>15.000000</td>\n",
       "    </tr>\n",
       "    <tr>\n",
       "      <th>50%</th>\n",
       "      <td>275.500000</td>\n",
       "      <td>32.500000</td>\n",
       "      <td>775.200000</td>\n",
       "      <td>12.000000</td>\n",
       "      <td>4.100000</td>\n",
       "      <td>23.000000</td>\n",
       "    </tr>\n",
       "    <tr>\n",
       "      <th>75%</th>\n",
       "      <td>362.750000</td>\n",
       "      <td>37.000000</td>\n",
       "      <td>1160.600000</td>\n",
       "      <td>15.000000</td>\n",
       "      <td>4.500000</td>\n",
       "      <td>38.000000</td>\n",
       "    </tr>\n",
       "    <tr>\n",
       "      <th>max</th>\n",
       "      <td>450.000000</td>\n",
       "      <td>43.000000</td>\n",
       "      <td>1520.100000</td>\n",
       "      <td>21.000000</td>\n",
       "      <td>4.900000</td>\n",
       "      <td>63.000000</td>\n",
       "    </tr>\n",
       "  </tbody>\n",
       "</table>\n",
       "</div>"
      ],
      "text/plain": [
       "       Customer ID         Age  Total Spend  Items Purchased  Average Rating  \\\n",
       "count   350.000000  350.000000   350.000000       350.000000      350.000000   \n",
       "mean    275.500000   33.597143   845.381714        12.600000        4.019143   \n",
       "std     101.180532    4.870882   362.058695         4.155984        0.580539   \n",
       "min     101.000000   26.000000   410.800000         7.000000        3.000000   \n",
       "25%     188.250000   30.000000   502.000000         9.000000        3.500000   \n",
       "50%     275.500000   32.500000   775.200000        12.000000        4.100000   \n",
       "75%     362.750000   37.000000  1160.600000        15.000000        4.500000   \n",
       "max     450.000000   43.000000  1520.100000        21.000000        4.900000   \n",
       "\n",
       "       Days Since Last Purchase  \n",
       "count                350.000000  \n",
       "mean                  26.588571  \n",
       "std                   13.440813  \n",
       "min                    9.000000  \n",
       "25%                   15.000000  \n",
       "50%                   23.000000  \n",
       "75%                   38.000000  \n",
       "max                   63.000000  "
      ]
     },
     "execution_count": 12,
     "metadata": {},
     "output_type": "execute_result"
    }
   ],
   "source": [
    "#各個欄位的敘述統計\n",
    "data.describe()"
   ]
  },
  {
   "cell_type": "markdown",
   "id": "8df7efe5",
   "metadata": {},
   "source": [
    "# 2.資料視覺化"
   ]
  },
  {
   "cell_type": "code",
   "execution_count": 13,
   "id": "3dc59350",
   "metadata": {},
   "outputs": [
    {
     "data": {
      "text/plain": [
       "<Axes: xlabel='Age', ylabel='count'>"
      ]
     },
     "execution_count": 13,
     "metadata": {},
     "output_type": "execute_result"
    },
    {
     "data": {
      "image/png": "[encoded data removed]",
      "text/plain": [
       "<Figure size 640x480 with 1 Axes>"
      ]
     },
     "metadata": {},
     "output_type": "display_data"
    }
   ],
   "source": [
    "#各年齡的滿意度數量\n",
    "sns.countplot(x=data['Age'], hue=data['Satisfaction Level'])"
   ]
  },
  {
   "cell_type": "markdown",
   "id": "1cba4e51",
   "metadata": {},
   "source": [
    "顯示出26,27歲及41~43的滿意度不好"
   ]
  },
  {
   "cell_type": "code",
   "execution_count": 14,
   "id": "0d18a6f9",
   "metadata": {},
   "outputs": [
    {
     "data": {
      "text/plain": [
       "(-1.099999017100354, 1.0999993716697465, -1.09999788815848, 1.0999998534340623)"
      ]
     },
     "execution_count": 14,
     "metadata": {},
     "output_type": "execute_result"
    },
    {
     "data": {
      "image/png": "[encoded data removed]",
      "text/plain": [
       "<Figure size 1400x700 with 2 Axes>"
      ]
     },
     "metadata": {},
     "output_type": "display_data"
    }
   ],
   "source": [
    "#男女的滿意程度\n",
    "female_data = data[data['Gender'] == 'Female']\n",
    "f_satisfaction_count = female_data['Satisfaction Level'].value_counts() #計算female各滿意度的數量\n",
    "f_satisfaction_percentages = f_satisfaction_count / f_satisfaction_count.sum() * 100\n",
    "\n",
    "male_data = data[data['Gender'] == 'Male']\n",
    "m_satisfaction_count = male_data['Satisfaction Level'].value_counts() #計算male各滿意度的數量\n",
    "m_satisfaction_percentages = m_satisfaction_count / m_satisfaction_count.sum() * 100 #計算各類別的百分比\n",
    "\n",
    "fig, axs = plt.subplots(1, 2, figsize=(14, 7))\n",
    "axs[0].pie(f_satisfaction_percentages, labels=f_satisfaction_percentages.index, autopct='%1.1f%%', shadow=True, startangle=140)\n",
    "axs[0].set_title('Satisfaction Levels of Female Employees')\n",
    "axs[0].axis('equal')\n",
    "\n",
    "axs[1].pie(m_satisfaction_percentages, labels=m_satisfaction_percentages.index, autopct='%1.1f%%', shadow=True, startangle=140)\n",
    "axs[1].set_title('Satisfaction Levels of Male Employees')\n",
    "axs[1].axis('equal')"
   ]
  },
  {
   "cell_type": "markdown",
   "id": "513a0d11",
   "metadata": {},
   "source": [
    "顯示出男性的滿意程度較女性高"
   ]
  },
  {
   "cell_type": "code",
   "execution_count": 15,
   "id": "402440b7",
   "metadata": {},
   "outputs": [
    {
     "data": {
      "text/plain": [
       "<Axes: xlabel='Discount Applied', ylabel='count'>"
      ]
     },
     "execution_count": 15,
     "metadata": {},
     "output_type": "execute_result"
    },
    {
     "data": {
      "image/png": "[encoded data removed]",
      "text/plain": [
       "<Figure size 640x480 with 1 Axes>"
      ]
     },
     "metadata": {},
     "output_type": "display_data"
    }
   ],
   "source": [
    "#使用優惠的滿意度\n",
    "sns.countplot(x=data['Discount Applied'], hue=data['Satisfaction Level'])"
   ]
  },
  {
   "cell_type": "markdown",
   "id": "6b3378ae",
   "metadata": {},
   "source": [
    "顯示出有使用優惠的滿意度較不好"
   ]
  },
  {
   "cell_type": "code",
   "execution_count": 16,
   "id": "a11f7bdc",
   "metadata": {},
   "outputs": [
    {
     "data": {
      "text/plain": [
       "<Axes: xlabel='City', ylabel='count'>"
      ]
     },
     "execution_count": 16,
     "metadata": {},
     "output_type": "execute_result"
    },
    {
     "data": {
      "image/png": "[encoded data removed]",
      "text/plain": [
       "<Figure size 640x480 with 1 Axes>"
      ]
     },
     "metadata": {},
     "output_type": "display_data"
    }
   ],
   "source": [
    "#城市的滿意度\n",
    "sns.countplot(x=data['City'], hue=data['Satisfaction Level'])"
   ]
  },
  {
   "cell_type": "markdown",
   "id": "a7ceb770",
   "metadata": {},
   "source": [
    "顯示出Chicago及Miami的滿意度較其他城市來的低"
   ]
  },
  {
   "cell_type": "markdown",
   "id": "41543617",
   "metadata": {},
   "source": [
    "# 使用獨熱編碼將類別型資料轉成數值型資料"
   ]
  },
  {
   "cell_type": "code",
   "execution_count": 17,
   "id": "2872f1f1",
   "metadata": {},
   "outputs": [
    {
     "name": "stderr",
     "output_type": "stream",
     "text": [
      "/Users/serene0215/anaconda3/lib/python3.11/site-packages/sklearn/preprocessing/_encoders.py:868: FutureWarning: `sparse` was renamed to `sparse_output` in version 1.2 and will be removed in 1.4. `sparse_output` is ignored unless you leave `sparse` to its default value.\n",
      "  warnings.warn(\n"
     ]
    }
   ],
   "source": [
    "from sklearn.preprocessing import OneHotEncoder\n",
    "encoder = OneHotEncoder(sparse=False)\n",
    "encoded_feature = encoder.fit_transform(data[['Gender', 'City', 'Membership Type', 'Discount Applied', 'Satisfaction Level']])"
   ]
  },
  {
   "cell_type": "code",
   "execution_count": 18,
   "id": "b6b9fcac",
   "metadata": {},
   "outputs": [],
   "source": [
    "#取得特徵名稱\n",
    "encoded_feature_names = encoder.get_feature_names_out(['Gender', 'City', 'Membership Type', 'Discount Applied', 'Satisfaction Level'])"
   ]
  },
  {
   "cell_type": "code",
   "execution_count": 19,
   "id": "72bb6b93",
   "metadata": {},
   "outputs": [
    {
     "data": {
      "text/html": [
       "<div>\n",
       "<style scoped>\n",
       "    .dataframe tbody tr th:only-of-type {\n",
       "        vertical-align: middle;\n",
       "    }\n",
       "\n",
       "    .dataframe tbody tr th {\n",
       "        vertical-align: top;\n",
       "    }\n",
       "\n",
       "    .dataframe thead th {\n",
       "        text-align: right;\n",
       "    }\n",
       "</style>\n",
       "<table border=\"1\" class=\"dataframe\">\n",
       "  <thead>\n",
       "    <tr style=\"text-align: right;\">\n",
       "      <th></th>\n",
       "      <th>Gender_Female</th>\n",
       "      <th>Gender_Male</th>\n",
       "      <th>City_Chicago</th>\n",
       "      <th>City_Houston</th>\n",
       "      <th>City_Los Angeles</th>\n",
       "      <th>City_Miami</th>\n",
       "      <th>City_New York</th>\n",
       "      <th>City_San Francisco</th>\n",
       "      <th>Membership Type_Bronze</th>\n",
       "      <th>Membership Type_Gold</th>\n",
       "      <th>Membership Type_Silver</th>\n",
       "      <th>Discount Applied_False</th>\n",
       "      <th>Discount Applied_True</th>\n",
       "      <th>Satisfaction Level_Neutral</th>\n",
       "      <th>Satisfaction Level_Satisfied</th>\n",
       "      <th>Satisfaction Level_Unsatisfied</th>\n",
       "    </tr>\n",
       "  </thead>\n",
       "  <tbody>\n",
       "    <tr>\n",
       "      <th>0</th>\n",
       "      <td>1.0</td>\n",
       "      <td>0.0</td>\n",
       "      <td>0.0</td>\n",
       "      <td>0.0</td>\n",
       "      <td>0.0</td>\n",
       "      <td>0.0</td>\n",
       "      <td>1.0</td>\n",
       "      <td>0.0</td>\n",
       "      <td>0.0</td>\n",
       "      <td>1.0</td>\n",
       "      <td>0.0</td>\n",
       "      <td>0.0</td>\n",
       "      <td>1.0</td>\n",
       "      <td>0.0</td>\n",
       "      <td>1.0</td>\n",
       "      <td>0.0</td>\n",
       "    </tr>\n",
       "    <tr>\n",
       "      <th>1</th>\n",
       "      <td>0.0</td>\n",
       "      <td>1.0</td>\n",
       "      <td>0.0</td>\n",
       "      <td>0.0</td>\n",
       "      <td>1.0</td>\n",
       "      <td>0.0</td>\n",
       "      <td>0.0</td>\n",
       "      <td>0.0</td>\n",
       "      <td>0.0</td>\n",
       "      <td>0.0</td>\n",
       "      <td>1.0</td>\n",
       "      <td>1.0</td>\n",
       "      <td>0.0</td>\n",
       "      <td>1.0</td>\n",
       "      <td>0.0</td>\n",
       "      <td>0.0</td>\n",
       "    </tr>\n",
       "  </tbody>\n",
       "</table>\n",
       "</div>"
      ],
      "text/plain": [
       "   Gender_Female  Gender_Male  City_Chicago  City_Houston  City_Los Angeles  \\\n",
       "0            1.0          0.0           0.0           0.0               0.0   \n",
       "1            0.0          1.0           0.0           0.0               1.0   \n",
       "\n",
       "   City_Miami  City_New York  City_San Francisco  Membership Type_Bronze  \\\n",
       "0         0.0            1.0                 0.0                     0.0   \n",
       "1         0.0            0.0                 0.0                     0.0   \n",
       "\n",
       "   Membership Type_Gold  Membership Type_Silver  Discount Applied_False  \\\n",
       "0                   1.0                     0.0                     0.0   \n",
       "1                   0.0                     1.0                     1.0   \n",
       "\n",
       "   Discount Applied_True  Satisfaction Level_Neutral  \\\n",
       "0                    1.0                         0.0   \n",
       "1                    0.0                         1.0   \n",
       "\n",
       "   Satisfaction Level_Satisfied  Satisfaction Level_Unsatisfied  \n",
       "0                           1.0                             0.0  \n",
       "1                           0.0                             0.0  "
      ]
     },
     "execution_count": 19,
     "metadata": {},
     "output_type": "execute_result"
    }
   ],
   "source": [
    "#使用DataFrame將轉換後的資料和特徵結合\n",
    "encoded_data = pd.DataFrame(encoded_feature, columns=encoded_feature_names)\n",
    "encoded_data.head(2)"
   ]
  },
  {
   "cell_type": "code",
   "execution_count": 20,
   "id": "b31b28f1",
   "metadata": {},
   "outputs": [
    {
     "data": {
      "text/html": [
       "<div>\n",
       "<style scoped>\n",
       "    .dataframe tbody tr th:only-of-type {\n",
       "        vertical-align: middle;\n",
       "    }\n",
       "\n",
       "    .dataframe tbody tr th {\n",
       "        vertical-align: top;\n",
       "    }\n",
       "\n",
       "    .dataframe thead th {\n",
       "        text-align: right;\n",
       "    }\n",
       "</style>\n",
       "<table border=\"1\" class=\"dataframe\">\n",
       "  <thead>\n",
       "    <tr style=\"text-align: right;\">\n",
       "      <th></th>\n",
       "      <th>Customer ID</th>\n",
       "      <th>Age</th>\n",
       "      <th>Total Spend</th>\n",
       "      <th>Items Purchased</th>\n",
       "      <th>Average Rating</th>\n",
       "      <th>Days Since Last Purchase</th>\n",
       "      <th>Gender_Female</th>\n",
       "      <th>Gender_Male</th>\n",
       "      <th>City_Chicago</th>\n",
       "      <th>City_Houston</th>\n",
       "      <th>...</th>\n",
       "      <th>City_New York</th>\n",
       "      <th>City_San Francisco</th>\n",
       "      <th>Membership Type_Bronze</th>\n",
       "      <th>Membership Type_Gold</th>\n",
       "      <th>Membership Type_Silver</th>\n",
       "      <th>Discount Applied_False</th>\n",
       "      <th>Discount Applied_True</th>\n",
       "      <th>Satisfaction Level_Neutral</th>\n",
       "      <th>Satisfaction Level_Satisfied</th>\n",
       "      <th>Satisfaction Level_Unsatisfied</th>\n",
       "    </tr>\n",
       "  </thead>\n",
       "  <tbody>\n",
       "    <tr>\n",
       "      <th>0</th>\n",
       "      <td>101</td>\n",
       "      <td>29</td>\n",
       "      <td>1120.2</td>\n",
       "      <td>14</td>\n",
       "      <td>4.6</td>\n",
       "      <td>25</td>\n",
       "      <td>1.0</td>\n",
       "      <td>0.0</td>\n",
       "      <td>0.0</td>\n",
       "      <td>0.0</td>\n",
       "      <td>...</td>\n",
       "      <td>1.0</td>\n",
       "      <td>0.0</td>\n",
       "      <td>0.0</td>\n",
       "      <td>1.0</td>\n",
       "      <td>0.0</td>\n",
       "      <td>0.0</td>\n",
       "      <td>1.0</td>\n",
       "      <td>0.0</td>\n",
       "      <td>1.0</td>\n",
       "      <td>0.0</td>\n",
       "    </tr>\n",
       "    <tr>\n",
       "      <th>1</th>\n",
       "      <td>102</td>\n",
       "      <td>34</td>\n",
       "      <td>780.5</td>\n",
       "      <td>11</td>\n",
       "      <td>4.1</td>\n",
       "      <td>18</td>\n",
       "      <td>0.0</td>\n",
       "      <td>1.0</td>\n",
       "      <td>0.0</td>\n",
       "      <td>0.0</td>\n",
       "      <td>...</td>\n",
       "      <td>0.0</td>\n",
       "      <td>0.0</td>\n",
       "      <td>0.0</td>\n",
       "      <td>0.0</td>\n",
       "      <td>1.0</td>\n",
       "      <td>1.0</td>\n",
       "      <td>0.0</td>\n",
       "      <td>1.0</td>\n",
       "      <td>0.0</td>\n",
       "      <td>0.0</td>\n",
       "    </tr>\n",
       "  </tbody>\n",
       "</table>\n",
       "<p>2 rows × 22 columns</p>\n",
       "</div>"
      ],
      "text/plain": [
       "   Customer ID  Age  Total Spend  Items Purchased  Average Rating  \\\n",
       "0          101   29       1120.2               14             4.6   \n",
       "1          102   34        780.5               11             4.1   \n",
       "\n",
       "   Days Since Last Purchase  Gender_Female  Gender_Male  City_Chicago  \\\n",
       "0                        25            1.0          0.0           0.0   \n",
       "1                        18            0.0          1.0           0.0   \n",
       "\n",
       "   City_Houston  ...  City_New York  City_San Francisco  \\\n",
       "0           0.0  ...            1.0                 0.0   \n",
       "1           0.0  ...            0.0                 0.0   \n",
       "\n",
       "   Membership Type_Bronze  Membership Type_Gold  Membership Type_Silver  \\\n",
       "0                     0.0                   1.0                     0.0   \n",
       "1                     0.0                   0.0                     1.0   \n",
       "\n",
       "   Discount Applied_False  Discount Applied_True  Satisfaction Level_Neutral  \\\n",
       "0                     0.0                    1.0                         0.0   \n",
       "1                     1.0                    0.0                         1.0   \n",
       "\n",
       "   Satisfaction Level_Satisfied  Satisfaction Level_Unsatisfied  \n",
       "0                           1.0                             0.0  \n",
       "1                           0.0                             0.0  \n",
       "\n",
       "[2 rows x 22 columns]"
      ]
     },
     "execution_count": 20,
     "metadata": {},
     "output_type": "execute_result"
    }
   ],
   "source": [
    "#將進行完獨熱編碼的資料合併原資料集\n",
    "data2 = pd.concat([data.drop(['Gender', 'City', 'Membership Type', 'Discount Applied', 'Satisfaction Level'], axis=1), encoded_data], axis=1)\n",
    "data2.head(2)"
   ]
  },
  {
   "cell_type": "markdown",
   "id": "267e64a8",
   "metadata": {},
   "source": [
    "# 數值型資料標準化"
   ]
  },
  {
   "cell_type": "code",
   "execution_count": 21,
   "id": "4d5f6dc7",
   "metadata": {},
   "outputs": [],
   "source": [
    "#將原是數值型資料進行標準化\n",
    "from sklearn.preprocessing import StandardScaler\n",
    "standard =  StandardScaler()\n",
    "data2[['Age', 'Total Spend', 'Items Purchased', 'Average Rating', 'Days Since Last Purchase']] = standard.fit_transform(data2[['Age', 'Total Spend', 'Items Purchased', 'Average Rating', 'Days Since Last Purchase']])"
   ]
  },
  {
   "cell_type": "markdown",
   "id": "0c0e0e1d",
   "metadata": {},
   "source": [
    "因Customer ID為識別不同的客戶，不助於模型學習，故不將Customer ID進行標準化"
   ]
  },
  {
   "cell_type": "code",
   "execution_count": 22,
   "id": "d68d76ee",
   "metadata": {},
   "outputs": [
    {
     "data": {
      "text/html": [
       "<div>\n",
       "<style scoped>\n",
       "    .dataframe tbody tr th:only-of-type {\n",
       "        vertical-align: middle;\n",
       "    }\n",
       "\n",
       "    .dataframe tbody tr th {\n",
       "        vertical-align: top;\n",
       "    }\n",
       "\n",
       "    .dataframe thead th {\n",
       "        text-align: right;\n",
       "    }\n",
       "</style>\n",
       "<table border=\"1\" class=\"dataframe\">\n",
       "  <thead>\n",
       "    <tr style=\"text-align: right;\">\n",
       "      <th></th>\n",
       "      <th>Customer ID</th>\n",
       "      <th>Age</th>\n",
       "      <th>Total Spend</th>\n",
       "      <th>Items Purchased</th>\n",
       "      <th>Average Rating</th>\n",
       "      <th>Days Since Last Purchase</th>\n",
       "      <th>Gender_Female</th>\n",
       "      <th>Gender_Male</th>\n",
       "      <th>City_Chicago</th>\n",
       "      <th>City_Houston</th>\n",
       "      <th>...</th>\n",
       "      <th>City_New York</th>\n",
       "      <th>City_San Francisco</th>\n",
       "      <th>Membership Type_Bronze</th>\n",
       "      <th>Membership Type_Gold</th>\n",
       "      <th>Membership Type_Silver</th>\n",
       "      <th>Discount Applied_False</th>\n",
       "      <th>Discount Applied_True</th>\n",
       "      <th>Satisfaction Level_Neutral</th>\n",
       "      <th>Satisfaction Level_Satisfied</th>\n",
       "      <th>Satisfaction Level_Unsatisfied</th>\n",
       "    </tr>\n",
       "  </thead>\n",
       "  <tbody>\n",
       "    <tr>\n",
       "      <th>0</th>\n",
       "      <td>101</td>\n",
       "      <td>-0.945152</td>\n",
       "      <td>0.760130</td>\n",
       "      <td>0.337346</td>\n",
       "      <td>1.001981</td>\n",
       "      <td>-0.118359</td>\n",
       "      <td>1.0</td>\n",
       "      <td>0.0</td>\n",
       "      <td>0.0</td>\n",
       "      <td>0.0</td>\n",
       "      <td>...</td>\n",
       "      <td>1.0</td>\n",
       "      <td>0.0</td>\n",
       "      <td>0.0</td>\n",
       "      <td>1.0</td>\n",
       "      <td>0.0</td>\n",
       "      <td>0.0</td>\n",
       "      <td>1.0</td>\n",
       "      <td>0.0</td>\n",
       "      <td>1.0</td>\n",
       "      <td>0.0</td>\n",
       "    </tr>\n",
       "    <tr>\n",
       "      <th>1</th>\n",
       "      <td>102</td>\n",
       "      <td>0.082826</td>\n",
       "      <td>-0.179459</td>\n",
       "      <td>-0.385538</td>\n",
       "      <td>0.139479</td>\n",
       "      <td>-0.639907</td>\n",
       "      <td>0.0</td>\n",
       "      <td>1.0</td>\n",
       "      <td>0.0</td>\n",
       "      <td>0.0</td>\n",
       "      <td>...</td>\n",
       "      <td>0.0</td>\n",
       "      <td>0.0</td>\n",
       "      <td>0.0</td>\n",
       "      <td>0.0</td>\n",
       "      <td>1.0</td>\n",
       "      <td>1.0</td>\n",
       "      <td>0.0</td>\n",
       "      <td>1.0</td>\n",
       "      <td>0.0</td>\n",
       "      <td>0.0</td>\n",
       "    </tr>\n",
       "    <tr>\n",
       "      <th>2</th>\n",
       "      <td>103</td>\n",
       "      <td>1.933185</td>\n",
       "      <td>-0.925570</td>\n",
       "      <td>-0.867461</td>\n",
       "      <td>-1.068024</td>\n",
       "      <td>1.148256</td>\n",
       "      <td>1.0</td>\n",
       "      <td>0.0</td>\n",
       "      <td>1.0</td>\n",
       "      <td>0.0</td>\n",
       "      <td>...</td>\n",
       "      <td>0.0</td>\n",
       "      <td>0.0</td>\n",
       "      <td>1.0</td>\n",
       "      <td>0.0</td>\n",
       "      <td>0.0</td>\n",
       "      <td>0.0</td>\n",
       "      <td>1.0</td>\n",
       "      <td>0.0</td>\n",
       "      <td>0.0</td>\n",
       "      <td>1.0</td>\n",
       "    </tr>\n",
       "    <tr>\n",
       "      <th>3</th>\n",
       "      <td>104</td>\n",
       "      <td>-0.739557</td>\n",
       "      <td>1.756144</td>\n",
       "      <td>1.542153</td>\n",
       "      <td>1.174482</td>\n",
       "      <td>-1.086947</td>\n",
       "      <td>0.0</td>\n",
       "      <td>1.0</td>\n",
       "      <td>0.0</td>\n",
       "      <td>0.0</td>\n",
       "      <td>...</td>\n",
       "      <td>0.0</td>\n",
       "      <td>1.0</td>\n",
       "      <td>0.0</td>\n",
       "      <td>1.0</td>\n",
       "      <td>0.0</td>\n",
       "      <td>1.0</td>\n",
       "      <td>0.0</td>\n",
       "      <td>0.0</td>\n",
       "      <td>1.0</td>\n",
       "      <td>0.0</td>\n",
       "    </tr>\n",
       "    <tr>\n",
       "      <th>4</th>\n",
       "      <td>105</td>\n",
       "      <td>-1.356343</td>\n",
       "      <td>-0.345692</td>\n",
       "      <td>0.096385</td>\n",
       "      <td>-0.033022</td>\n",
       "      <td>2.116844</td>\n",
       "      <td>0.0</td>\n",
       "      <td>1.0</td>\n",
       "      <td>0.0</td>\n",
       "      <td>0.0</td>\n",
       "      <td>...</td>\n",
       "      <td>0.0</td>\n",
       "      <td>0.0</td>\n",
       "      <td>0.0</td>\n",
       "      <td>0.0</td>\n",
       "      <td>1.0</td>\n",
       "      <td>0.0</td>\n",
       "      <td>1.0</td>\n",
       "      <td>0.0</td>\n",
       "      <td>0.0</td>\n",
       "      <td>1.0</td>\n",
       "    </tr>\n",
       "  </tbody>\n",
       "</table>\n",
       "<p>5 rows × 22 columns</p>\n",
       "</div>"
      ],
      "text/plain": [
       "   Customer ID       Age  Total Spend  Items Purchased  Average Rating  \\\n",
       "0          101 -0.945152     0.760130         0.337346        1.001981   \n",
       "1          102  0.082826    -0.179459        -0.385538        0.139479   \n",
       "2          103  1.933185    -0.925570        -0.867461       -1.068024   \n",
       "3          104 -0.739557     1.756144         1.542153        1.174482   \n",
       "4          105 -1.356343    -0.345692         0.096385       -0.033022   \n",
       "\n",
       "   Days Since Last Purchase  Gender_Female  Gender_Male  City_Chicago  \\\n",
       "0                 -0.118359            1.0          0.0           0.0   \n",
       "1                 -0.639907            0.0          1.0           0.0   \n",
       "2                  1.148256            1.0          0.0           1.0   \n",
       "3                 -1.086947            0.0          1.0           0.0   \n",
       "4                  2.116844            0.0          1.0           0.0   \n",
       "\n",
       "   City_Houston  ...  City_New York  City_San Francisco  \\\n",
       "0           0.0  ...            1.0                 0.0   \n",
       "1           0.0  ...            0.0                 0.0   \n",
       "2           0.0  ...            0.0                 0.0   \n",
       "3           0.0  ...            0.0                 1.0   \n",
       "4           0.0  ...            0.0                 0.0   \n",
       "\n",
       "   Membership Type_Bronze  Membership Type_Gold  Membership Type_Silver  \\\n",
       "0                     0.0                   1.0                     0.0   \n",
       "1                     0.0                   0.0                     1.0   \n",
       "2                     1.0                   0.0                     0.0   \n",
       "3                     0.0                   1.0                     0.0   \n",
       "4                     0.0                   0.0                     1.0   \n",
       "\n",
       "   Discount Applied_False  Discount Applied_True  Satisfaction Level_Neutral  \\\n",
       "0                     0.0                    1.0                         0.0   \n",
       "1                     1.0                    0.0                         1.0   \n",
       "2                     0.0                    1.0                         0.0   \n",
       "3                     1.0                    0.0                         0.0   \n",
       "4                     0.0                    1.0                         0.0   \n",
       "\n",
       "   Satisfaction Level_Satisfied  Satisfaction Level_Unsatisfied  \n",
       "0                           1.0                             0.0  \n",
       "1                           0.0                             0.0  \n",
       "2                           0.0                             1.0  \n",
       "3                           1.0                             0.0  \n",
       "4                           0.0                             1.0  \n",
       "\n",
       "[5 rows x 22 columns]"
      ]
     },
     "execution_count": 22,
     "metadata": {},
     "output_type": "execute_result"
    }
   ],
   "source": [
    "data2.head()"
   ]
  },
  {
   "cell_type": "markdown",
   "id": "32238776",
   "metadata": {},
   "source": [
    "# 隨機森林"
   ]
  },
  {
   "cell_type": "markdown",
   "id": "b2790276",
   "metadata": {},
   "source": [
    "因Customer ID沒進行標準化(只為識別客戶)，故先將Customer ID刪除，以防影響後續模型訓練"
   ]
  },
  {
   "cell_type": "code",
   "execution_count": 23,
   "id": "802e3884",
   "metadata": {},
   "outputs": [
    {
     "data": {
      "text/html": [
       "<div>\n",
       "<style scoped>\n",
       "    .dataframe tbody tr th:only-of-type {\n",
       "        vertical-align: middle;\n",
       "    }\n",
       "\n",
       "    .dataframe tbody tr th {\n",
       "        vertical-align: top;\n",
       "    }\n",
       "\n",
       "    .dataframe thead th {\n",
       "        text-align: right;\n",
       "    }\n",
       "</style>\n",
       "<table border=\"1\" class=\"dataframe\">\n",
       "  <thead>\n",
       "    <tr style=\"text-align: right;\">\n",
       "      <th></th>\n",
       "      <th>Age</th>\n",
       "      <th>Total Spend</th>\n",
       "      <th>Items Purchased</th>\n",
       "      <th>Average Rating</th>\n",
       "      <th>Days Since Last Purchase</th>\n",
       "      <th>Gender_Female</th>\n",
       "      <th>Gender_Male</th>\n",
       "      <th>City_Chicago</th>\n",
       "      <th>City_Houston</th>\n",
       "      <th>City_Los Angeles</th>\n",
       "      <th>...</th>\n",
       "      <th>City_New York</th>\n",
       "      <th>City_San Francisco</th>\n",
       "      <th>Membership Type_Bronze</th>\n",
       "      <th>Membership Type_Gold</th>\n",
       "      <th>Membership Type_Silver</th>\n",
       "      <th>Discount Applied_False</th>\n",
       "      <th>Discount Applied_True</th>\n",
       "      <th>Satisfaction Level_Neutral</th>\n",
       "      <th>Satisfaction Level_Satisfied</th>\n",
       "      <th>Satisfaction Level_Unsatisfied</th>\n",
       "    </tr>\n",
       "  </thead>\n",
       "  <tbody>\n",
       "    <tr>\n",
       "      <th>0</th>\n",
       "      <td>-0.945152</td>\n",
       "      <td>0.760130</td>\n",
       "      <td>0.337346</td>\n",
       "      <td>1.001981</td>\n",
       "      <td>-0.118359</td>\n",
       "      <td>1.0</td>\n",
       "      <td>0.0</td>\n",
       "      <td>0.0</td>\n",
       "      <td>0.0</td>\n",
       "      <td>0.0</td>\n",
       "      <td>...</td>\n",
       "      <td>1.0</td>\n",
       "      <td>0.0</td>\n",
       "      <td>0.0</td>\n",
       "      <td>1.0</td>\n",
       "      <td>0.0</td>\n",
       "      <td>0.0</td>\n",
       "      <td>1.0</td>\n",
       "      <td>0.0</td>\n",
       "      <td>1.0</td>\n",
       "      <td>0.0</td>\n",
       "    </tr>\n",
       "    <tr>\n",
       "      <th>1</th>\n",
       "      <td>0.082826</td>\n",
       "      <td>-0.179459</td>\n",
       "      <td>-0.385538</td>\n",
       "      <td>0.139479</td>\n",
       "      <td>-0.639907</td>\n",
       "      <td>0.0</td>\n",
       "      <td>1.0</td>\n",
       "      <td>0.0</td>\n",
       "      <td>0.0</td>\n",
       "      <td>1.0</td>\n",
       "      <td>...</td>\n",
       "      <td>0.0</td>\n",
       "      <td>0.0</td>\n",
       "      <td>0.0</td>\n",
       "      <td>0.0</td>\n",
       "      <td>1.0</td>\n",
       "      <td>1.0</td>\n",
       "      <td>0.0</td>\n",
       "      <td>1.0</td>\n",
       "      <td>0.0</td>\n",
       "      <td>0.0</td>\n",
       "    </tr>\n",
       "    <tr>\n",
       "      <th>2</th>\n",
       "      <td>1.933185</td>\n",
       "      <td>-0.925570</td>\n",
       "      <td>-0.867461</td>\n",
       "      <td>-1.068024</td>\n",
       "      <td>1.148256</td>\n",
       "      <td>1.0</td>\n",
       "      <td>0.0</td>\n",
       "      <td>1.0</td>\n",
       "      <td>0.0</td>\n",
       "      <td>0.0</td>\n",
       "      <td>...</td>\n",
       "      <td>0.0</td>\n",
       "      <td>0.0</td>\n",
       "      <td>1.0</td>\n",
       "      <td>0.0</td>\n",
       "      <td>0.0</td>\n",
       "      <td>0.0</td>\n",
       "      <td>1.0</td>\n",
       "      <td>0.0</td>\n",
       "      <td>0.0</td>\n",
       "      <td>1.0</td>\n",
       "    </tr>\n",
       "    <tr>\n",
       "      <th>3</th>\n",
       "      <td>-0.739557</td>\n",
       "      <td>1.756144</td>\n",
       "      <td>1.542153</td>\n",
       "      <td>1.174482</td>\n",
       "      <td>-1.086947</td>\n",
       "      <td>0.0</td>\n",
       "      <td>1.0</td>\n",
       "      <td>0.0</td>\n",
       "      <td>0.0</td>\n",
       "      <td>0.0</td>\n",
       "      <td>...</td>\n",
       "      <td>0.0</td>\n",
       "      <td>1.0</td>\n",
       "      <td>0.0</td>\n",
       "      <td>1.0</td>\n",
       "      <td>0.0</td>\n",
       "      <td>1.0</td>\n",
       "      <td>0.0</td>\n",
       "      <td>0.0</td>\n",
       "      <td>1.0</td>\n",
       "      <td>0.0</td>\n",
       "    </tr>\n",
       "    <tr>\n",
       "      <th>4</th>\n",
       "      <td>-1.356343</td>\n",
       "      <td>-0.345692</td>\n",
       "      <td>0.096385</td>\n",
       "      <td>-0.033022</td>\n",
       "      <td>2.116844</td>\n",
       "      <td>0.0</td>\n",
       "      <td>1.0</td>\n",
       "      <td>0.0</td>\n",
       "      <td>0.0</td>\n",
       "      <td>0.0</td>\n",
       "      <td>...</td>\n",
       "      <td>0.0</td>\n",
       "      <td>0.0</td>\n",
       "      <td>0.0</td>\n",
       "      <td>0.0</td>\n",
       "      <td>1.0</td>\n",
       "      <td>0.0</td>\n",
       "      <td>1.0</td>\n",
       "      <td>0.0</td>\n",
       "      <td>0.0</td>\n",
       "      <td>1.0</td>\n",
       "    </tr>\n",
       "    <tr>\n",
       "      <th>...</th>\n",
       "      <td>...</td>\n",
       "      <td>...</td>\n",
       "      <td>...</td>\n",
       "      <td>...</td>\n",
       "      <td>...</td>\n",
       "      <td>...</td>\n",
       "      <td>...</td>\n",
       "      <td>...</td>\n",
       "      <td>...</td>\n",
       "      <td>...</td>\n",
       "      <td>...</td>\n",
       "      <td>...</td>\n",
       "      <td>...</td>\n",
       "      <td>...</td>\n",
       "      <td>...</td>\n",
       "      <td>...</td>\n",
       "      <td>...</td>\n",
       "      <td>...</td>\n",
       "      <td>...</td>\n",
       "      <td>...</td>\n",
       "      <td>...</td>\n",
       "    </tr>\n",
       "    <tr>\n",
       "      <th>345</th>\n",
       "      <td>-0.328365</td>\n",
       "      <td>-0.511924</td>\n",
       "      <td>-0.626500</td>\n",
       "      <td>-0.378022</td>\n",
       "      <td>1.148256</td>\n",
       "      <td>0.0</td>\n",
       "      <td>1.0</td>\n",
       "      <td>0.0</td>\n",
       "      <td>0.0</td>\n",
       "      <td>0.0</td>\n",
       "      <td>...</td>\n",
       "      <td>0.0</td>\n",
       "      <td>0.0</td>\n",
       "      <td>0.0</td>\n",
       "      <td>0.0</td>\n",
       "      <td>1.0</td>\n",
       "      <td>0.0</td>\n",
       "      <td>1.0</td>\n",
       "      <td>0.0</td>\n",
       "      <td>0.0</td>\n",
       "      <td>1.0</td>\n",
       "    </tr>\n",
       "    <tr>\n",
       "      <th>346</th>\n",
       "      <td>0.494017</td>\n",
       "      <td>-1.036899</td>\n",
       "      <td>-1.108422</td>\n",
       "      <td>-1.758026</td>\n",
       "      <td>0.030654</td>\n",
       "      <td>1.0</td>\n",
       "      <td>0.0</td>\n",
       "      <td>0.0</td>\n",
       "      <td>1.0</td>\n",
       "      <td>0.0</td>\n",
       "      <td>...</td>\n",
       "      <td>0.0</td>\n",
       "      <td>0.0</td>\n",
       "      <td>1.0</td>\n",
       "      <td>0.0</td>\n",
       "      <td>0.0</td>\n",
       "      <td>1.0</td>\n",
       "      <td>0.0</td>\n",
       "      <td>1.0</td>\n",
       "      <td>0.0</td>\n",
       "      <td>0.0</td>\n",
       "    </tr>\n",
       "    <tr>\n",
       "      <th>347</th>\n",
       "      <td>-0.739557</td>\n",
       "      <td>0.955405</td>\n",
       "      <td>0.819269</td>\n",
       "      <td>0.829481</td>\n",
       "      <td>0.105161</td>\n",
       "      <td>1.0</td>\n",
       "      <td>0.0</td>\n",
       "      <td>0.0</td>\n",
       "      <td>0.0</td>\n",
       "      <td>0.0</td>\n",
       "      <td>...</td>\n",
       "      <td>1.0</td>\n",
       "      <td>0.0</td>\n",
       "      <td>0.0</td>\n",
       "      <td>1.0</td>\n",
       "      <td>0.0</td>\n",
       "      <td>0.0</td>\n",
       "      <td>1.0</td>\n",
       "      <td>0.0</td>\n",
       "      <td>1.0</td>\n",
       "      <td>0.0</td>\n",
       "    </tr>\n",
       "    <tr>\n",
       "      <th>348</th>\n",
       "      <td>0.082826</td>\n",
       "      <td>-0.180289</td>\n",
       "      <td>-0.385538</td>\n",
       "      <td>0.311979</td>\n",
       "      <td>-0.416386</td>\n",
       "      <td>0.0</td>\n",
       "      <td>1.0</td>\n",
       "      <td>0.0</td>\n",
       "      <td>0.0</td>\n",
       "      <td>1.0</td>\n",
       "      <td>...</td>\n",
       "      <td>0.0</td>\n",
       "      <td>0.0</td>\n",
       "      <td>0.0</td>\n",
       "      <td>0.0</td>\n",
       "      <td>1.0</td>\n",
       "      <td>1.0</td>\n",
       "      <td>0.0</td>\n",
       "      <td>1.0</td>\n",
       "      <td>0.0</td>\n",
       "      <td>0.0</td>\n",
       "    </tr>\n",
       "    <tr>\n",
       "      <th>349</th>\n",
       "      <td>1.933185</td>\n",
       "      <td>-0.911741</td>\n",
       "      <td>-0.626500</td>\n",
       "      <td>-1.240525</td>\n",
       "      <td>1.669803</td>\n",
       "      <td>1.0</td>\n",
       "      <td>0.0</td>\n",
       "      <td>1.0</td>\n",
       "      <td>0.0</td>\n",
       "      <td>0.0</td>\n",
       "      <td>...</td>\n",
       "      <td>0.0</td>\n",
       "      <td>0.0</td>\n",
       "      <td>1.0</td>\n",
       "      <td>0.0</td>\n",
       "      <td>0.0</td>\n",
       "      <td>0.0</td>\n",
       "      <td>1.0</td>\n",
       "      <td>0.0</td>\n",
       "      <td>0.0</td>\n",
       "      <td>1.0</td>\n",
       "    </tr>\n",
       "  </tbody>\n",
       "</table>\n",
       "<p>350 rows × 21 columns</p>\n",
       "</div>"
      ],
      "text/plain": [
       "          Age  Total Spend  Items Purchased  Average Rating  \\\n",
       "0   -0.945152     0.760130         0.337346        1.001981   \n",
       "1    0.082826    -0.179459        -0.385538        0.139479   \n",
       "2    1.933185    -0.925570        -0.867461       -1.068024   \n",
       "3   -0.739557     1.756144         1.542153        1.174482   \n",
       "4   -1.356343    -0.345692         0.096385       -0.033022   \n",
       "..        ...          ...              ...             ...   \n",
       "345 -0.328365    -0.511924        -0.626500       -0.378022   \n",
       "346  0.494017    -1.036899        -1.108422       -1.758026   \n",
       "347 -0.739557     0.955405         0.819269        0.829481   \n",
       "348  0.082826    -0.180289        -0.385538        0.311979   \n",
       "349  1.933185    -0.911741        -0.626500       -1.240525   \n",
       "\n",
       "     Days Since Last Purchase  Gender_Female  Gender_Male  City_Chicago  \\\n",
       "0                   -0.118359            1.0          0.0           0.0   \n",
       "1                   -0.639907            0.0          1.0           0.0   \n",
       "2                    1.148256            1.0          0.0           1.0   \n",
       "3                   -1.086947            0.0          1.0           0.0   \n",
       "4                    2.116844            0.0          1.0           0.0   \n",
       "..                        ...            ...          ...           ...   \n",
       "345                  1.148256            0.0          1.0           0.0   \n",
       "346                  0.030654            1.0          0.0           0.0   \n",
       "347                  0.105161            1.0          0.0           0.0   \n",
       "348                 -0.416386            0.0          1.0           0.0   \n",
       "349                  1.669803            1.0          0.0           1.0   \n",
       "\n",
       "     City_Houston  City_Los Angeles  ...  City_New York  City_San Francisco  \\\n",
       "0             0.0               0.0  ...            1.0                 0.0   \n",
       "1             0.0               1.0  ...            0.0                 0.0   \n",
       "2             0.0               0.0  ...            0.0                 0.0   \n",
       "3             0.0               0.0  ...            0.0                 1.0   \n",
       "4             0.0               0.0  ...            0.0                 0.0   \n",
       "..            ...               ...  ...            ...                 ...   \n",
       "345           0.0               0.0  ...            0.0                 0.0   \n",
       "346           1.0               0.0  ...            0.0                 0.0   \n",
       "347           0.0               0.0  ...            1.0                 0.0   \n",
       "348           0.0               1.0  ...            0.0                 0.0   \n",
       "349           0.0               0.0  ...            0.0                 0.0   \n",
       "\n",
       "     Membership Type_Bronze  Membership Type_Gold  Membership Type_Silver  \\\n",
       "0                       0.0                   1.0                     0.0   \n",
       "1                       0.0                   0.0                     1.0   \n",
       "2                       1.0                   0.0                     0.0   \n",
       "3                       0.0                   1.0                     0.0   \n",
       "4                       0.0                   0.0                     1.0   \n",
       "..                      ...                   ...                     ...   \n",
       "345                     0.0                   0.0                     1.0   \n",
       "346                     1.0                   0.0                     0.0   \n",
       "347                     0.0                   1.0                     0.0   \n",
       "348                     0.0                   0.0                     1.0   \n",
       "349                     1.0                   0.0                     0.0   \n",
       "\n",
       "     Discount Applied_False  Discount Applied_True  \\\n",
       "0                       0.0                    1.0   \n",
       "1                       1.0                    0.0   \n",
       "2                       0.0                    1.0   \n",
       "3                       1.0                    0.0   \n",
       "4                       0.0                    1.0   \n",
       "..                      ...                    ...   \n",
       "345                     0.0                    1.0   \n",
       "346                     1.0                    0.0   \n",
       "347                     0.0                    1.0   \n",
       "348                     1.0                    0.0   \n",
       "349                     0.0                    1.0   \n",
       "\n",
       "     Satisfaction Level_Neutral  Satisfaction Level_Satisfied  \\\n",
       "0                           0.0                           1.0   \n",
       "1                           1.0                           0.0   \n",
       "2                           0.0                           0.0   \n",
       "3                           0.0                           1.0   \n",
       "4                           0.0                           0.0   \n",
       "..                          ...                           ...   \n",
       "345                         0.0                           0.0   \n",
       "346                         1.0                           0.0   \n",
       "347                         0.0                           1.0   \n",
       "348                         1.0                           0.0   \n",
       "349                         0.0                           0.0   \n",
       "\n",
       "     Satisfaction Level_Unsatisfied  \n",
       "0                               0.0  \n",
       "1                               0.0  \n",
       "2                               1.0  \n",
       "3                               0.0  \n",
       "4                               1.0  \n",
       "..                              ...  \n",
       "345                             1.0  \n",
       "346                             0.0  \n",
       "347                             0.0  \n",
       "348                             0.0  \n",
       "349                             1.0  \n",
       "\n",
       "[350 rows x 21 columns]"
      ]
     },
     "execution_count": 23,
     "metadata": {},
     "output_type": "execute_result"
    }
   ],
   "source": [
    "data2 = data2.drop(['Customer ID'], axis=1)\n",
    "data2"
   ]
  },
  {
   "cell_type": "code",
   "execution_count": 24,
   "id": "c00dc984",
   "metadata": {},
   "outputs": [],
   "source": [
    "from sklearn.model_selection import train_test_split\n",
    "from imblearn.over_sampling import SMOTE\n",
    "from collections import Counter\n",
    "from sklearn.ensemble import RandomForestClassifier"
   ]
  },
  {
   "cell_type": "code",
   "execution_count": 33,
   "id": "ed5dedfb",
   "metadata": {},
   "outputs": [
    {
     "data": {
      "text/plain": [
       "0      0\n",
       "1      1\n",
       "2      2\n",
       "3      0\n",
       "4      2\n",
       "      ..\n",
       "345    2\n",
       "346    1\n",
       "347    0\n",
       "348    1\n",
       "349    2\n",
       "Length: 350, dtype: int64"
      ]
     },
     "execution_count": 33,
     "metadata": {},
     "output_type": "execute_result"
    }
   ],
   "source": [
    "#將資料分成Ｘ(預測變數)和y(被預測變數)\n",
    "X = data2.drop(['Satisfaction Level_Satisfied', 'Satisfaction Level_Neutral', 'Satisfaction Level_Unsatisfied'], axis=1)\n",
    "y = data2[['Satisfaction Level_Satisfied', 'Satisfaction Level_Neutral', 'Satisfaction Level_Unsatisfied']]\n",
    "y = y.idxmax(axis=1).map({'Satisfaction Level_Satisfied': 0, 'Satisfaction Level_Neutral': 1, 'Satisfaction Level_Unsatisfied': 2}) #將目標變量轉換成單列類別標籤\n",
    "y"
   ]
  },
  {
   "cell_type": "code",
   "execution_count": 34,
   "id": "aa6d6208",
   "metadata": {},
   "outputs": [],
   "source": [
    "#切分訓練集為0.7,測試集為0.3\n",
    "X_train, X_test, y_train, y_test = train_test_split(X, y, test_size=0.3, random_state=0, shuffle=True)"
   ]
  },
  {
   "cell_type": "code",
   "execution_count": 35,
   "id": "a4e859dc",
   "metadata": {},
   "outputs": [
    {
     "name": "stdout",
     "output_type": "stream",
     "text": [
      "原始數據類別分布: Counter({0: 87, 2: 81, 1: 77})\n"
     ]
    }
   ],
   "source": [
    "print(\"原始數據類別分布:\", Counter(y_train))"
   ]
  },
  {
   "cell_type": "markdown",
   "id": "37089020",
   "metadata": {},
   "source": [
    "因切分後的訓練集筆數為245，故以下使用SMOTE方法，生成新的合成樣本增加樣本數量。"
   ]
  },
  {
   "cell_type": "code",
   "execution_count": 36,
   "id": "1958a346",
   "metadata": {},
   "outputs": [
    {
     "name": "stdout",
     "output_type": "stream",
     "text": [
      "過採樣後的數據類別分佈: Counter({1: 4350, 2: 4050, 0: 3850})\n"
     ]
    }
   ],
   "source": [
    "import warnings\n",
    "warnings.simplefilter(\"ignore\", UserWarning)\n",
    "\n",
    "smote = SMOTE(sampling_strategy={0: 77*50, 1: 87*50, 2: 81*50}, random_state=0)\n",
    "X_train_smo, y_train_smo = smote.fit_resample(X_train, y_train)\n",
    "print(\"過採樣後的數據類別分佈:\", Counter(y_train_smo))"
   ]
  },
  {
   "cell_type": "markdown",
   "id": "abd3f025",
   "metadata": {},
   "source": [
    "增加後的總筆數為12250筆"
   ]
  },
  {
   "cell_type": "code",
   "execution_count": 37,
   "id": "0099c389",
   "metadata": {},
   "outputs": [
    {
     "name": "stdout",
     "output_type": "stream",
     "text": [
      "最佳參數為： {'max_depth': 3, 'n_estimators': 300}\n",
      "訓練集的預測結果： 1.0\n",
      "測試集的預測結果： 1.0\n"
     ]
    }
   ],
   "source": [
    "from sklearn.model_selection import GridSearchCV\n",
    "\n",
    "param_grid = {\n",
    "    'max_depth': [1, 2, 3, 4, 5],\n",
    "    'n_estimators': [100, 300, 500]\n",
    "}\n",
    "rfc = RandomForestClassifier(random_state=0)\n",
    "gs = GridSearchCV(rfc, param_grid=param_grid, cv=10)\n",
    "gs.fit(X_train_smo, y_train_smo.values.ravel())\n",
    "print('最佳參數為：', gs.best_params_)\n",
    "print('訓練集的預測結果：', gs.best_score_)\n",
    "print('測試集的預測結果：', gs.best_estimator_.score(X_train_smo, y_train_smo.values.ravel()))"
   ]
  },
  {
   "cell_type": "code",
   "execution_count": 38,
   "id": "2d710463",
   "metadata": {},
   "outputs": [],
   "source": [
    "#使用隨機森量模型\n",
    "forest = RandomForestClassifier(max_depth=3, random_state=0, n_estimators=300)"
   ]
  },
  {
   "cell_type": "code",
   "execution_count": 39,
   "id": "44279f3e",
   "metadata": {},
   "outputs": [
    {
     "data": {
      "text/html": [
       "<style>#sk-container-id-1 {color: black;background-color: white;}#sk-container-id-1 pre{padding: 0;}#sk-container-id-1 div.sk-toggleable {background-color: white;}#sk-container-id-1 label.sk-toggleable__label {cursor: pointer;display: block;width: 100%;margin-bottom: 0;padding: 0.3em;box-sizing: border-box;text-align: center;}#sk-container-id-1 label.sk-toggleable__label-arrow:before {content: \"▸\";float: left;margin-right: 0.25em;color: #696969;}#sk-container-id-1 label.sk-toggleable__label-arrow:hover:before {color: black;}#sk-container-id-1 div.sk-estimator:hover label.sk-toggleable__label-arrow:before {color: black;}#sk-container-id-1 div.sk-toggleable__content {max-height: 0;max-width: 0;overflow: hidden;text-align: left;background-color: #f0f8ff;}#sk-container-id-1 div.sk-toggleable__content pre {margin: 0.2em;color: black;border-radius: 0.25em;background-color: #f0f8ff;}#sk-container-id-1 input.sk-toggleable__control:checked~div.sk-toggleable__content {max-height: 200px;max-width: 100%;overflow: auto;}#sk-container-id-1 input.sk-toggleable__control:checked~label.sk-toggleable__label-arrow:before {content: \"▾\";}#sk-container-id-1 div.sk-estimator input.sk-toggleable__control:checked~label.sk-toggleable__label {background-color: #d4ebff;}#sk-container-id-1 div.sk-label input.sk-toggleable__control:checked~label.sk-toggleable__label {background-color: #d4ebff;}#sk-container-id-1 input.sk-hidden--visually {border: 0;clip: rect(1px 1px 1px 1px);clip: rect(1px, 1px, 1px, 1px);height: 1px;margin: -1px;overflow: hidden;padding: 0;position: absolute;width: 1px;}#sk-container-id-1 div.sk-estimator {font-family: monospace;background-color: #f0f8ff;border: 1px dotted black;border-radius: 0.25em;box-sizing: border-box;margin-bottom: 0.5em;}#sk-container-id-1 div.sk-estimator:hover {background-color: #d4ebff;}#sk-container-id-1 div.sk-parallel-item::after {content: \"\";width: 100%;border-bottom: 1px solid gray;flex-grow: 1;}#sk-container-id-1 div.sk-label:hover label.sk-toggleable__label {background-color: #d4ebff;}#sk-container-id-1 div.sk-serial::before {content: \"\";position: absolute;border-left: 1px solid gray;box-sizing: border-box;top: 0;bottom: 0;left: 50%;z-index: 0;}#sk-container-id-1 div.sk-serial {display: flex;flex-direction: column;align-items: center;background-color: white;padding-right: 0.2em;padding-left: 0.2em;position: relative;}#sk-container-id-1 div.sk-item {position: relative;z-index: 1;}#sk-container-id-1 div.sk-parallel {display: flex;align-items: stretch;justify-content: center;background-color: white;position: relative;}#sk-container-id-1 div.sk-item::before, #sk-container-id-1 div.sk-parallel-item::before {content: \"\";position: absolute;border-left: 1px solid gray;box-sizing: border-box;top: 0;bottom: 0;left: 50%;z-index: -1;}#sk-container-id-1 div.sk-parallel-item {display: flex;flex-direction: column;z-index: 1;position: relative;background-color: white;}#sk-container-id-1 div.sk-parallel-item:first-child::after {align-self: flex-end;width: 50%;}#sk-container-id-1 div.sk-parallel-item:last-child::after {align-self: flex-start;width: 50%;}#sk-container-id-1 div.sk-parallel-item:only-child::after {width: 0;}#sk-container-id-1 div.sk-dashed-wrapped {border: 1px dashed gray;margin: 0 0.4em 0.5em 0.4em;box-sizing: border-box;padding-bottom: 0.4em;background-color: white;}#sk-container-id-1 div.sk-label label {font-family: monospace;font-weight: bold;display: inline-block;line-height: 1.2em;}#sk-container-id-1 div.sk-label-container {text-align: center;}#sk-container-id-1 div.sk-container {/* jupyter's `normalize.less` sets `[hidden] { display: none; }` but bootstrap.min.css set `[hidden] { display: none !important; }` so we also need the `!important` here to be able to override the default hidden behavior on the sphinx rendered scikit-learn.org. See: https://github.com/scikit-learn/scikit-learn/issues/21755 */display: inline-block !important;position: relative;}#sk-container-id-1 div.sk-text-repr-fallback {display: none;}</style><div id=\"sk-container-id-1\" class=\"sk-top-container\"><div class=\"sk-text-repr-fallback\"><pre>RandomForestClassifier(max_depth=3, n_estimators=300, random_state=0)</pre><b>In a Jupyter environment, please rerun this cell to show the HTML representation or trust the notebook. <br />On GitHub, the HTML representation is unable to render, please try loading this page with nbviewer.org.</b></div><div class=\"sk-container\" hidden><div class=\"sk-item\"><div class=\"sk-estimator sk-toggleable\"><input class=\"sk-toggleable__control sk-hidden--visually\" id=\"sk-estimator-id-1\" type=\"checkbox\" checked><label for=\"sk-estimator-id-1\" class=\"sk-toggleable__label sk-toggleable__label-arrow\">RandomForestClassifier</label><div class=\"sk-toggleable__content\"><pre>RandomForestClassifier(max_depth=3, n_estimators=300, random_state=0)</pre></div></div></div></div></div>"
      ],
      "text/plain": [
       "RandomForestClassifier(max_depth=3, n_estimators=300, random_state=0)"
      ]
     },
     "execution_count": 39,
     "metadata": {},
     "output_type": "execute_result"
    }
   ],
   "source": [
    "forest.fit(X_train_smo, y_train_smo)"
   ]
  },
  {
   "cell_type": "code",
   "execution_count": 40,
   "id": "a514ae69",
   "metadata": {},
   "outputs": [],
   "source": [
    "y_pred = forest.predict(X_test)"
   ]
  },
  {
   "cell_type": "code",
   "execution_count": 41,
   "id": "6cdb6290",
   "metadata": {},
   "outputs": [
    {
     "name": "stdout",
     "output_type": "stream",
     "text": [
      "     實際1  實際2  實際3\n",
      "預測1   38    0    0\n",
      "預測2    0   32    0\n",
      "預測3    0    0   35\n"
     ]
    }
   ],
   "source": [
    "from sklearn.metrics import confusion_matrix\n",
    "cm = confusion_matrix(y_pred, y_test)\n",
    "print(pd.DataFrame(cm, index=['預測1', '預測2', '預測3'], columns=['實際1', '實際2', '實際3']))"
   ]
  },
  {
   "cell_type": "code",
   "execution_count": null,
   "id": "a7ec3f88",
   "metadata": {},
   "outputs": [],
   "source": []
  }
 ],
 "metadata": {
  "kernelspec": {
   "display_name": "Python 3 (ipykernel)",
   "language": "python",
   "name": "python3"
  },
  "language_info": {
   "codemirror_mode": {
    "name": "ipython",
    "version": 3
   },
   "file_extension": ".py",
   "mimetype": "text/x-python",
   "name": "python",
   "nbconvert_exporter": "python",
   "pygments_lexer": "ipython3",
   "version": "3.11.3"
  }
 },
 "nbformat": 4,
 "nbformat_minor": 5
}
